{
 "cells": [
  {
   "cell_type": "code",
   "execution_count": null,
   "metadata": {},
   "outputs": [],
   "source": [
    "import pandas as pd\n",
    "import numpy as np\n",
    "import plotly.express as px\n",
    "import plotly.figure_factory as ff\n",
    "import json\n",
    "import random"
   ]
  },
  {
   "cell_type": "code",
   "execution_count": null,
   "metadata": {},
   "outputs": [],
   "source": [
    "with open('data/california_counties.json') as f:\n",
    "  cali_geojson = json.load(f)\n",
    "\n",
    "df = pd.DataFrame([\n",
    "  [\n",
    "    feature['properties']['NAME'], \n",
    "    random.random()\n",
    "  ] for feature in cali_geojson['features']\n",
    "], columns=['NAME', 'FIRE_PROBABILITY'])\n",
    "\n",
    "car_df = px.data.carshare()\n",
    "\n",
    "locations = json.load(open('data/locations.json'))\n",
    "locations_df = pd.DataFrame(\n",
    "  [location + [random.random()] for location in locations],\n",
    "  columns=['LAT', 'LON', 'FIRE_SCORE']\n",
    ")"
   ]
  },
  {
   "cell_type": "code",
   "execution_count": null,
   "metadata": {},
   "outputs": [],
   "source": [
    "px.set_mapbox_access_token(open(\".mapbox_token\").read())\n",
    "fig = ff.create_hexbin_mapbox(\n",
    "    data_frame=locations_df, lat=\"LAT\", lon=\"LON\",\n",
    "    nx_hexagon=10, opacity=0.5, labels={\"color\": \"FIRE_SCORE\"},\n",
    "    color=\"FIRE_SCORE\", agg_func=np.mean,\n",
    "    min_count=1\n",
    ")\n",
    "\n",
    "fig.show()"
   ]
  },
  {
   "cell_type": "code",
   "execution_count": null,
   "metadata": {},
   "outputs": [],
   "source": [
    "fig = px.choropleth(df, geojson=cali_geojson,\n",
    "                    locations=\"NAME\", featureidkey=\"properties.NAME\",\n",
    "                    projection=\"mercator\"\n",
    "                   )\n",
    "fig.update_geos(fitbounds=\"locations\", visible=False)\n",
    "fig.update_layout(margin={\"r\":0,\"t\":0,\"l\":0,\"b\":0})\n",
    "fig.show()\n",
    "\n",
    "fig.layout.geo"
   ]
  }
 ],
 "metadata": {
  "interpreter": {
   "hash": "cfb5c0a6d3509eaa0588f5d0f5ccc7b2ef0ee5bb88c0ca6d59b31dfe2d62e1a9"
  },
  "kernelspec": {
   "display_name": "Python 3.9.6 ('dash_experiment-u-Ts4scp')",
   "language": "python",
   "name": "python3"
  },
  "language_info": {
   "codemirror_mode": {
    "name": "ipython",
    "version": 3
   },
   "file_extension": ".py",
   "mimetype": "text/x-python",
   "name": "python",
   "nbconvert_exporter": "python",
   "pygments_lexer": "ipython3",
   "version": "3.9.6"
  },
  "orig_nbformat": 4
 },
 "nbformat": 4,
 "nbformat_minor": 2
}
