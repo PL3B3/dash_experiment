{
 "cells": [
  {
   "cell_type": "code",
   "execution_count": null,
   "metadata": {},
   "outputs": [],
   "source": [
    "import pandas as pd\n",
    "import numpy as np\n",
    "import plotly.express as px\n",
    "import plotly.figure_factory as ff\n",
    "import json\n",
    "import random"
   ]
  },
  {
   "cell_type": "code",
   "execution_count": null,
   "metadata": {},
   "outputs": [],
   "source": [
    "HEX_OPACITY = 0.3\n",
    "\n",
    "with open('data/california_counties.json') as f:\n",
    "  cali_geojson = json.load(f)\n",
    "\n",
    "df = pd.DataFrame([\n",
    "  [\n",
    "    feature['properties']['NAME'], \n",
    "    random.random()\n",
    "  ] for feature in cali_geojson['features']\n",
    "], columns=['NAME', 'FIRE_PROBABILITY'])\n",
    "\n",
    "car_df = px.data.carshare()\n",
    "\n",
    "locations = json.load(open('data/locations.json'))\n",
    "mock_df = pd.DataFrame(\n",
    "  [location + [random.random()] for location in locations],\n",
    "  columns=['LAT', 'LON', 'FIRE_SCORE']\n",
    ")"
   ]
  },
  {
   "cell_type": "code",
   "execution_count": null,
   "metadata": {},
   "outputs": [],
   "source": [
    "ca_bounds_lat_lon = {\n",
    "  'lon_range': [-124.409591, -114.131211],\n",
    "  'lat_range': [32.534156, 42.009518]\n",
    "}\n",
    "\n",
    "ca_bounds_dash_coords = {\n",
    "  'x_range': [-2.1713569841888964, -1.9919654110589782],\n",
    "  'y_range': [0.5964742403574204, 0.8139749637349287]\n",
    "}\n",
    "\n",
    "ca_bound_locations = [\n",
    "  [42.009518, -124.409591],\n",
    "  [32.534156, -114.131211]\n",
    "]\n",
    "\n",
    "def dash_coord_to_lat_lon_california(location):\n",
    "  x, y = location\n",
    "  x_range = ca_bounds_dash_coords['x_range']\n",
    "  y_range = ca_bounds_dash_coords['y_range']\n",
    "  lon_range = ca_bounds_lat_lon['lon_range']\n",
    "  lat_range = ca_bounds_lat_lon['lat_range']\n",
    "  \n",
    "  x_std = (x - x_range[0]) / abs(x_range[1] - x_range[0])\n",
    "  y_std = (y - y_range[0]) / abs(y_range[1] - y_range[0])\n",
    "\n",
    "  x_proj = lon_range[0] + x_std * (lon_range[1] - lon_range[0])\n",
    "  y_proj = lat_range[0] + y_std * (lat_range[1] - lat_range[0])\n",
    "\n",
    "  return [x_proj, y_proj]\n",
    "\n",
    "print(dash_coord_to_lat_lon_california([-1.9919654110589782, 0.5964742403574204]))"
   ]
  },
  {
   "cell_type": "code",
   "execution_count": null,
   "metadata": {},
   "outputs": [],
   "source": [
    "DIRECTION_NAMES = [\n",
    "    'N', 'NNE', 'NE', 'ENE', 'E', 'ESE', 'SE', 'SSE',\n",
    "    'S', 'SSW', 'SW', 'WSW', 'W', 'WNW', 'NW', 'NNW'\n",
    "]\n",
    "DIRECTION_BIN_SIZE = 360.0 / len(DIRECTION_NAMES)\n",
    "DIRECTION_DICT = {\n",
    "    (DIRECTION_BIN_SIZE * i): DIRECTION_NAMES[i]\n",
    "    for i in range(len(DIRECTION_NAMES))\n",
    "}\n",
    "\n",
    "def deg_to_dir(deg):\n",
    "    for key, value in DIRECTION_DICT.items():\n",
    "        print(min_deg_diff(deg, key))\n",
    "        if min_deg_diff(deg, key) < DIRECTION_BIN_SIZE / 2:\n",
    "            return value\n",
    "\n",
    "\n",
    "def min_deg_diff(deg_1, deg_2):\n",
    "    abs_diff = abs(deg_1 - deg_2)\n",
    "    return min(abs_diff, 360.0 - abs_diff)\n",
    "\n",
    "deg_to_dir(180)"
   ]
  },
  {
   "cell_type": "code",
   "execution_count": null,
   "metadata": {},
   "outputs": [],
   "source": [
    "fire_prob_median_fig = ff.create_hexbin_mapbox(\n",
    "    data_frame=mock_df, lat=\"LAT\", lon=\"LON\",\n",
    "    mapbox_style='open-street-map',\n",
    "    nx_hexagon=12, opacity=HEX_OPACITY, labels={\"color\": \"Median fire chance\"},\n",
    "    color=\"FIRE_SCORE\", agg_func=np.median,\n",
    "    min_count=1, width=600, height=600\n",
    ")\n",
    "\n",
    "fire_prob_median_fig.show()"
   ]
  },
  {
   "cell_type": "code",
   "execution_count": null,
   "metadata": {},
   "outputs": [],
   "source": [
    "fig = px.choropleth(df, geojson=cali_geojson,\n",
    "                    locations=\"NAME\", featureidkey=\"properties.NAME\",\n",
    "                    projection=\"mercator\"\n",
    "                   )\n",
    "fig.update_geos(fitbounds=\"locations\", visible=False)\n",
    "fig.update_layout(margin={\"r\":0,\"t\":0,\"l\":0,\"b\":0})\n",
    "fig.show()\n",
    "\n",
    "fig.layout.geo"
   ]
  }
 ],
 "metadata": {
  "interpreter": {
   "hash": "cfb5c0a6d3509eaa0588f5d0f5ccc7b2ef0ee5bb88c0ca6d59b31dfe2d62e1a9"
  },
  "kernelspec": {
   "display_name": "Python 3.9.6 ('dash_experiment-u-Ts4scp')",
   "language": "python",
   "name": "python3"
  },
  "language_info": {
   "codemirror_mode": {
    "name": "ipython",
    "version": 3
   },
   "file_extension": ".py",
   "mimetype": "text/x-python",
   "name": "python",
   "nbconvert_exporter": "python",
   "pygments_lexer": "ipython3",
   "version": "3.9.6"
  },
  "orig_nbformat": 4
 },
 "nbformat": 4,
 "nbformat_minor": 2
}
